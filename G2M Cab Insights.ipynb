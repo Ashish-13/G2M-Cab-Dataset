{
 "cells": [
  {
   "cell_type": "markdown",
   "metadata": {},
   "source": [
    "<center> <h1> G2M insight for Cab Investment firm </h1></center>"
   ]
  },
  {
   "cell_type": "markdown",
   "metadata": {},
   "source": [
    "### Objective:"
   ]
  },
  {
   "cell_type": "markdown",
   "metadata": {},
   "source": [
    "Analyse the G2M cab datasets consisting of data of two cab companies (Pink and Yellow) and make recommendations for a cab investment firm to invest their capital."
   ]
  },
  {
   "cell_type": "markdown",
   "metadata": {},
   "source": [
    "### Assumptions:\n",
    "\n",
    "1. Profit Magin = (Price Charged - Cost of Trip )/ Price Charged\n",
    "2. Joins made to merge tables were inner and left joins accordingly."
   ]
  },
  {
   "cell_type": "code",
   "execution_count": null,
   "metadata": {},
   "outputs": [],
   "source": [
    "import pandas as pd\n",
    "import numpy as np"
   ]
  },
  {
   "cell_type": "code",
   "execution_count": 2,
   "metadata": {},
   "outputs": [],
   "source": [
    "pd.set_option('display.float_format', '{:.2f}'.format)"
   ]
  },
  {
   "cell_type": "code",
   "execution_count": 3,
   "metadata": {},
   "outputs": [],
   "source": [
    "cabdata=pd.read_csv(r'C:\\Users\\Ashish\\Downloads\\DataSets-main\\DataSets-main\\Cab_Data.csv')\n",
    "city=pd.read_csv(r'C:\\Users\\Ashish\\Downloads\\DataSets-main\\DataSets-main\\City.csv')\n",
    "customer=pd.read_csv(r'C:\\Users\\Ashish\\Downloads\\DataSets-main\\DataSets-main\\Customer_ID.csv')\n",
    "transaction=pd.read_csv(r'C:\\Users\\Ashish\\Downloads\\DataSets-main\\DataSets-main\\Transaction_ID.csv')"
   ]
  },
  {
   "cell_type": "code",
   "execution_count": 5,
   "metadata": {},
   "outputs": [],
   "source": [
    "cabdata['Date of Travel'] = pd.to_datetime(cabdata['Date of Travel'])"
   ]
  },
  {
   "cell_type": "markdown",
   "metadata": {},
   "source": [
    "# 1. Which Cab company had higher number of rides ?"
   ]
  },
  {
   "cell_type": "code",
   "execution_count": 6,
   "metadata": {},
   "outputs": [
    {
     "data": {
      "text/html": [
       "<div>\n",
       "<style scoped>\n",
       "    .dataframe tbody tr th:only-of-type {\n",
       "        vertical-align: middle;\n",
       "    }\n",
       "\n",
       "    .dataframe tbody tr th {\n",
       "        vertical-align: top;\n",
       "    }\n",
       "\n",
       "    .dataframe thead th {\n",
       "        text-align: right;\n",
       "    }\n",
       "</style>\n",
       "<table border=\"1\" class=\"dataframe\">\n",
       "  <thead>\n",
       "    <tr style=\"text-align: right;\">\n",
       "      <th></th>\n",
       "      <th>Total Rides</th>\n",
       "    </tr>\n",
       "    <tr>\n",
       "      <th>Company</th>\n",
       "      <th></th>\n",
       "    </tr>\n",
       "  </thead>\n",
       "  <tbody>\n",
       "    <tr>\n",
       "      <th>Pink Cab</th>\n",
       "      <td>84711</td>\n",
       "    </tr>\n",
       "    <tr>\n",
       "      <th>Yellow Cab</th>\n",
       "      <td>274681</td>\n",
       "    </tr>\n",
       "  </tbody>\n",
       "</table>\n",
       "</div>"
      ],
      "text/plain": [
       "            Total Rides\n",
       "Company                \n",
       "Pink Cab          84711\n",
       "Yellow Cab       274681"
      ]
     },
     "execution_count": 6,
     "metadata": {},
     "output_type": "execute_result"
    }
   ],
   "source": [
    "total_rides = pd.DataFrame(cabdata.groupby('Company')['Transaction ID'].count())\n",
    "total_rides = total_rides.rename(columns={'Transaction ID':'Total Rides'})\n",
    "total_rides"
   ]
  },
  {
   "cell_type": "markdown",
   "metadata": {},
   "source": [
    "#### From the above table it is quite evident that Yellow Company had far more cab rides than pink company on the basis of transactions made. "
   ]
  },
  {
   "cell_type": "markdown",
   "metadata": {},
   "source": [
    "# 2. Which company made higher profits ?\n"
   ]
  },
  {
   "cell_type": "code",
   "execution_count": 7,
   "metadata": {},
   "outputs": [
    {
     "name": "stderr",
     "output_type": "stream",
     "text": [
      "C:\\Users\\Ashish\\Anaconda3\\lib\\site-packages\\ipykernel_launcher.py:1: FutureWarning: Indexing with multiple keys (implicitly converted to a tuple of keys) will be deprecated, use a list instead.\n",
      "  \"\"\"Entry point for launching an IPython kernel.\n"
     ]
    }
   ],
   "source": [
    "profit =pd.DataFrame(cabdata.groupby('Company')['Price Charged','Cost of Trip'].sum())\n",
    "profit['Profit']=profit['Price Charged']-profit['Cost of Trip']"
   ]
  },
  {
   "cell_type": "code",
   "execution_count": 8,
   "metadata": {},
   "outputs": [
    {
     "data": {
      "text/html": [
       "<div>\n",
       "<style scoped>\n",
       "    .dataframe tbody tr th:only-of-type {\n",
       "        vertical-align: middle;\n",
       "    }\n",
       "\n",
       "    .dataframe tbody tr th {\n",
       "        vertical-align: top;\n",
       "    }\n",
       "\n",
       "    .dataframe thead th {\n",
       "        text-align: right;\n",
       "    }\n",
       "</style>\n",
       "<table border=\"1\" class=\"dataframe\">\n",
       "  <thead>\n",
       "    <tr style=\"text-align: right;\">\n",
       "      <th></th>\n",
       "      <th>Price Charged</th>\n",
       "      <th>Cost of Trip</th>\n",
       "      <th>Profit</th>\n",
       "      <th>Profit Margin (%)</th>\n",
       "    </tr>\n",
       "    <tr>\n",
       "      <th>Company</th>\n",
       "      <th></th>\n",
       "      <th></th>\n",
       "      <th></th>\n",
       "      <th></th>\n",
       "    </tr>\n",
       "  </thead>\n",
       "  <tbody>\n",
       "    <tr>\n",
       "      <th>Pink Cab</th>\n",
       "      <td>26328251.33</td>\n",
       "      <td>21020923.01</td>\n",
       "      <td>5307328.32</td>\n",
       "      <td>20.16</td>\n",
       "    </tr>\n",
       "    <tr>\n",
       "      <th>Yellow Cab</th>\n",
       "      <td>125853887.19</td>\n",
       "      <td>81833514.02</td>\n",
       "      <td>44020373.17</td>\n",
       "      <td>34.98</td>\n",
       "    </tr>\n",
       "  </tbody>\n",
       "</table>\n",
       "</div>"
      ],
      "text/plain": [
       "            Price Charged  Cost of Trip      Profit  Profit Margin (%)\n",
       "Company                                                               \n",
       "Pink Cab      26328251.33   21020923.01  5307328.32              20.16\n",
       "Yellow Cab   125853887.19   81833514.02 44020373.17              34.98"
      ]
     },
     "execution_count": 8,
     "metadata": {},
     "output_type": "execute_result"
    }
   ],
   "source": [
    "profit[\"Profit Margin (%)\"] = (profit[\"Profit\"]*100) / profit['Price Charged']\n",
    "profit"
   ]
  },
  {
   "cell_type": "markdown",
   "metadata": {},
   "source": [
    "#### So, from above table we can conclude that yellow cab has relatively high profit margin than Pink Company, which can also be directly related to the high number of rides in Yellow Cab."
   ]
  },
  {
   "cell_type": "markdown",
   "metadata": {},
   "source": [
    "# 3. Analyzing annual profit per company"
   ]
  },
  {
   "cell_type": "code",
   "execution_count": 9,
   "metadata": {
    "scrolled": true
   },
   "outputs": [
    {
     "name": "stderr",
     "output_type": "stream",
     "text": [
      "C:\\Users\\Ashish\\Anaconda3\\lib\\site-packages\\ipykernel_launcher.py:1: FutureWarning: Indexing with multiple keys (implicitly converted to a tuple of keys) will be deprecated, use a list instead.\n",
      "  \"\"\"Entry point for launching an IPython kernel.\n"
     ]
    },
    {
     "data": {
      "text/html": [
       "<div>\n",
       "<style scoped>\n",
       "    .dataframe tbody tr th:only-of-type {\n",
       "        vertical-align: middle;\n",
       "    }\n",
       "\n",
       "    .dataframe tbody tr th {\n",
       "        vertical-align: top;\n",
       "    }\n",
       "\n",
       "    .dataframe thead th {\n",
       "        text-align: right;\n",
       "    }\n",
       "</style>\n",
       "<table border=\"1\" class=\"dataframe\">\n",
       "  <thead>\n",
       "    <tr style=\"text-align: right;\">\n",
       "      <th></th>\n",
       "      <th></th>\n",
       "      <th>Price Charged</th>\n",
       "      <th>Cost of Trip</th>\n",
       "    </tr>\n",
       "    <tr>\n",
       "      <th>Date of Travel</th>\n",
       "      <th>Company</th>\n",
       "      <th></th>\n",
       "      <th></th>\n",
       "    </tr>\n",
       "  </thead>\n",
       "  <tbody>\n",
       "    <tr>\n",
       "      <th rowspan=\"2\" valign=\"top\">2016</th>\n",
       "      <th>Pink Cab</th>\n",
       "      <td>7908479.23</td>\n",
       "      <td>6194968.01</td>\n",
       "    </tr>\n",
       "    <tr>\n",
       "      <th>Yellow Cab</th>\n",
       "      <td>38481133.18</td>\n",
       "      <td>24554137.75</td>\n",
       "    </tr>\n",
       "    <tr>\n",
       "      <th rowspan=\"2\" valign=\"top\">2017</th>\n",
       "      <th>Pink Cab</th>\n",
       "      <td>9578629.54</td>\n",
       "      <td>7544974.63</td>\n",
       "    </tr>\n",
       "    <tr>\n",
       "      <th>Yellow Cab</th>\n",
       "      <td>45818910.04</td>\n",
       "      <td>29242932.07</td>\n",
       "    </tr>\n",
       "    <tr>\n",
       "      <th rowspan=\"2\" valign=\"top\">2018</th>\n",
       "      <th>Pink Cab</th>\n",
       "      <td>8841142.56</td>\n",
       "      <td>7280980.37</td>\n",
       "    </tr>\n",
       "    <tr>\n",
       "      <th>Yellow Cab</th>\n",
       "      <td>41553843.97</td>\n",
       "      <td>28036444.20</td>\n",
       "    </tr>\n",
       "  </tbody>\n",
       "</table>\n",
       "</div>"
      ],
      "text/plain": [
       "                           Price Charged  Cost of Trip\n",
       "Date of Travel Company                                \n",
       "2016           Pink Cab       7908479.23    6194968.01\n",
       "               Yellow Cab    38481133.18   24554137.75\n",
       "2017           Pink Cab       9578629.54    7544974.63\n",
       "               Yellow Cab    45818910.04   29242932.07\n",
       "2018           Pink Cab       8841142.56    7280980.37\n",
       "               Yellow Cab    41553843.97   28036444.20"
      ]
     },
     "execution_count": 9,
     "metadata": {},
     "output_type": "execute_result"
    }
   ],
   "source": [
    "yearly_profit = cabdata.groupby([cabdata['Date of Travel'].dt.strftime('%Y'), 'Company'])['Price Charged','Cost of Trip'].sum()\n",
    "yearly_profit"
   ]
  },
  {
   "cell_type": "code",
   "execution_count": 10,
   "metadata": {
    "scrolled": true
   },
   "outputs": [
    {
     "data": {
      "text/html": [
       "<div>\n",
       "<style scoped>\n",
       "    .dataframe tbody tr th:only-of-type {\n",
       "        vertical-align: middle;\n",
       "    }\n",
       "\n",
       "    .dataframe tbody tr th {\n",
       "        vertical-align: top;\n",
       "    }\n",
       "\n",
       "    .dataframe thead th {\n",
       "        text-align: right;\n",
       "    }\n",
       "</style>\n",
       "<table border=\"1\" class=\"dataframe\">\n",
       "  <thead>\n",
       "    <tr style=\"text-align: right;\">\n",
       "      <th></th>\n",
       "      <th></th>\n",
       "      <th>Price Charged</th>\n",
       "      <th>Cost of Trip</th>\n",
       "      <th>Profit</th>\n",
       "      <th>Profit Margin (%)</th>\n",
       "    </tr>\n",
       "    <tr>\n",
       "      <th>Date of Travel</th>\n",
       "      <th>Company</th>\n",
       "      <th></th>\n",
       "      <th></th>\n",
       "      <th></th>\n",
       "      <th></th>\n",
       "    </tr>\n",
       "  </thead>\n",
       "  <tbody>\n",
       "    <tr>\n",
       "      <th rowspan=\"2\" valign=\"top\">2016</th>\n",
       "      <th>Pink Cab</th>\n",
       "      <td>7908479.23</td>\n",
       "      <td>6194968.01</td>\n",
       "      <td>1713511.22</td>\n",
       "      <td>21.67</td>\n",
       "    </tr>\n",
       "    <tr>\n",
       "      <th>Yellow Cab</th>\n",
       "      <td>38481133.18</td>\n",
       "      <td>24554137.75</td>\n",
       "      <td>13926995.43</td>\n",
       "      <td>36.19</td>\n",
       "    </tr>\n",
       "    <tr>\n",
       "      <th rowspan=\"2\" valign=\"top\">2017</th>\n",
       "      <th>Pink Cab</th>\n",
       "      <td>9578629.54</td>\n",
       "      <td>7544974.63</td>\n",
       "      <td>2033654.91</td>\n",
       "      <td>21.23</td>\n",
       "    </tr>\n",
       "    <tr>\n",
       "      <th>Yellow Cab</th>\n",
       "      <td>45818910.04</td>\n",
       "      <td>29242932.07</td>\n",
       "      <td>16575977.97</td>\n",
       "      <td>36.18</td>\n",
       "    </tr>\n",
       "    <tr>\n",
       "      <th rowspan=\"2\" valign=\"top\">2018</th>\n",
       "      <th>Pink Cab</th>\n",
       "      <td>8841142.56</td>\n",
       "      <td>7280980.37</td>\n",
       "      <td>1560162.19</td>\n",
       "      <td>17.65</td>\n",
       "    </tr>\n",
       "    <tr>\n",
       "      <th>Yellow Cab</th>\n",
       "      <td>41553843.97</td>\n",
       "      <td>28036444.20</td>\n",
       "      <td>13517399.77</td>\n",
       "      <td>32.53</td>\n",
       "    </tr>\n",
       "  </tbody>\n",
       "</table>\n",
       "</div>"
      ],
      "text/plain": [
       "                           Price Charged  Cost of Trip      Profit  \\\n",
       "Date of Travel Company                                               \n",
       "2016           Pink Cab       7908479.23    6194968.01  1713511.22   \n",
       "               Yellow Cab    38481133.18   24554137.75 13926995.43   \n",
       "2017           Pink Cab       9578629.54    7544974.63  2033654.91   \n",
       "               Yellow Cab    45818910.04   29242932.07 16575977.97   \n",
       "2018           Pink Cab       8841142.56    7280980.37  1560162.19   \n",
       "               Yellow Cab    41553843.97   28036444.20 13517399.77   \n",
       "\n",
       "                           Profit Margin (%)  \n",
       "Date of Travel Company                        \n",
       "2016           Pink Cab                21.67  \n",
       "               Yellow Cab              36.19  \n",
       "2017           Pink Cab                21.23  \n",
       "               Yellow Cab              36.18  \n",
       "2018           Pink Cab                17.65  \n",
       "               Yellow Cab              32.53  "
      ]
     },
     "execution_count": 10,
     "metadata": {},
     "output_type": "execute_result"
    }
   ],
   "source": [
    "yearly_profit['Profit']= yearly_profit['Price Charged']-yearly_profit['Cost of Trip']\n",
    "yearly_profit[\"Profit Margin (%)\"] = (yearly_profit[\"Profit\"]*100) / yearly_profit['Price Charged']\n",
    "yearly_profit"
   ]
  },
  {
   "cell_type": "markdown",
   "metadata": {},
   "source": [
    "#### From the table we can observe a decrease in profit margin of both company especially from 2017 to 2018.\n",
    "#### Although the Price Charged increased from 2016 to 2017, gaining more revenue. It was proportional to the increase in Cost of Trip. And from 2017 -2018 a slight decrease in Price Charged can also be observed.\n",
    "\n",
    "#### However, comparing the profits of both company, Yellow performed significantly better."
   ]
  },
  {
   "cell_type": "markdown",
   "metadata": {},
   "source": [
    "# 4. Is there seasonality present in the usage of ride leading to more profits in certain months of the year ?"
   ]
  },
  {
   "cell_type": "code",
   "execution_count": 77,
   "metadata": {
    "scrolled": false
   },
   "outputs": [
    {
     "data": {
      "text/html": [
       "<div>\n",
       "<style scoped>\n",
       "    .dataframe tbody tr th:only-of-type {\n",
       "        vertical-align: middle;\n",
       "    }\n",
       "\n",
       "    .dataframe tbody tr th {\n",
       "        vertical-align: top;\n",
       "    }\n",
       "\n",
       "    .dataframe thead th {\n",
       "        text-align: right;\n",
       "    }\n",
       "</style>\n",
       "<table border=\"1\" class=\"dataframe\">\n",
       "  <thead>\n",
       "    <tr style=\"text-align: right;\">\n",
       "      <th></th>\n",
       "      <th>index</th>\n",
       "      <th>Date of Travel</th>\n",
       "      <th>Company</th>\n",
       "      <th>Price Charged</th>\n",
       "      <th>Cost of Trip</th>\n",
       "      <th>Profit</th>\n",
       "      <th>Profit Margin (%)</th>\n",
       "    </tr>\n",
       "  </thead>\n",
       "  <tbody>\n",
       "    <tr>\n",
       "      <th>0</th>\n",
       "      <td>0</td>\n",
       "      <td>2016/01</td>\n",
       "      <td>Pink Cab</td>\n",
       "      <td>305236.77</td>\n",
       "      <td>231283.91</td>\n",
       "      <td>73952.86</td>\n",
       "      <td>24.23</td>\n",
       "    </tr>\n",
       "    <tr>\n",
       "      <th>1</th>\n",
       "      <td>1</td>\n",
       "      <td>2016/01</td>\n",
       "      <td>Yellow Cab</td>\n",
       "      <td>1952149.76</td>\n",
       "      <td>1115841.65</td>\n",
       "      <td>836308.11</td>\n",
       "      <td>42.84</td>\n",
       "    </tr>\n",
       "    <tr>\n",
       "      <th>2</th>\n",
       "      <td>2</td>\n",
       "      <td>2016/02</td>\n",
       "      <td>Pink Cab</td>\n",
       "      <td>344521.86</td>\n",
       "      <td>257046.32</td>\n",
       "      <td>87475.54</td>\n",
       "      <td>25.39</td>\n",
       "    </tr>\n",
       "    <tr>\n",
       "      <th>3</th>\n",
       "      <td>3</td>\n",
       "      <td>2016/02</td>\n",
       "      <td>Yellow Cab</td>\n",
       "      <td>2398229.53</td>\n",
       "      <td>1389060.36</td>\n",
       "      <td>1009169.17</td>\n",
       "      <td>42.08</td>\n",
       "    </tr>\n",
       "    <tr>\n",
       "      <th>4</th>\n",
       "      <td>4</td>\n",
       "      <td>2016/03</td>\n",
       "      <td>Pink Cab</td>\n",
       "      <td>394890.37</td>\n",
       "      <td>307089.19</td>\n",
       "      <td>87801.18</td>\n",
       "      <td>22.23</td>\n",
       "    </tr>\n",
       "    <tr>\n",
       "      <th>...</th>\n",
       "      <td>...</td>\n",
       "      <td>...</td>\n",
       "      <td>...</td>\n",
       "      <td>...</td>\n",
       "      <td>...</td>\n",
       "      <td>...</td>\n",
       "      <td>...</td>\n",
       "    </tr>\n",
       "    <tr>\n",
       "      <th>67</th>\n",
       "      <td>67</td>\n",
       "      <td>2018/10</td>\n",
       "      <td>Yellow Cab</td>\n",
       "      <td>4166490.17</td>\n",
       "      <td>2892733.92</td>\n",
       "      <td>1273756.25</td>\n",
       "      <td>30.57</td>\n",
       "    </tr>\n",
       "    <tr>\n",
       "      <th>68</th>\n",
       "      <td>68</td>\n",
       "      <td>2018/11</td>\n",
       "      <td>Pink Cab</td>\n",
       "      <td>1212611.50</td>\n",
       "      <td>973273.77</td>\n",
       "      <td>239337.73</td>\n",
       "      <td>19.74</td>\n",
       "    </tr>\n",
       "    <tr>\n",
       "      <th>69</th>\n",
       "      <td>69</td>\n",
       "      <td>2018/11</td>\n",
       "      <td>Yellow Cab</td>\n",
       "      <td>4755546.08</td>\n",
       "      <td>3338612.75</td>\n",
       "      <td>1416933.33</td>\n",
       "      <td>29.80</td>\n",
       "    </tr>\n",
       "    <tr>\n",
       "      <th>70</th>\n",
       "      <td>70</td>\n",
       "      <td>2018/12</td>\n",
       "      <td>Pink Cab</td>\n",
       "      <td>1223418.98</td>\n",
       "      <td>937813.05</td>\n",
       "      <td>285605.93</td>\n",
       "      <td>23.34</td>\n",
       "    </tr>\n",
       "    <tr>\n",
       "      <th>71</th>\n",
       "      <td>71</td>\n",
       "      <td>2018/12</td>\n",
       "      <td>Yellow Cab</td>\n",
       "      <td>5065190.80</td>\n",
       "      <td>3498304.41</td>\n",
       "      <td>1566886.39</td>\n",
       "      <td>30.93</td>\n",
       "    </tr>\n",
       "  </tbody>\n",
       "</table>\n",
       "<p>72 rows × 7 columns</p>\n",
       "</div>"
      ],
      "text/plain": [
       "    index Date of Travel     Company  Price Charged  Cost of Trip     Profit  \\\n",
       "0       0        2016/01    Pink Cab      305236.77     231283.91   73952.86   \n",
       "1       1        2016/01  Yellow Cab     1952149.76    1115841.65  836308.11   \n",
       "2       2        2016/02    Pink Cab      344521.86     257046.32   87475.54   \n",
       "3       3        2016/02  Yellow Cab     2398229.53    1389060.36 1009169.17   \n",
       "4       4        2016/03    Pink Cab      394890.37     307089.19   87801.18   \n",
       "..    ...            ...         ...            ...           ...        ...   \n",
       "67     67        2018/10  Yellow Cab     4166490.17    2892733.92 1273756.25   \n",
       "68     68        2018/11    Pink Cab     1212611.50     973273.77  239337.73   \n",
       "69     69        2018/11  Yellow Cab     4755546.08    3338612.75 1416933.33   \n",
       "70     70        2018/12    Pink Cab     1223418.98     937813.05  285605.93   \n",
       "71     71        2018/12  Yellow Cab     5065190.80    3498304.41 1566886.39   \n",
       "\n",
       "    Profit Margin (%)  \n",
       "0               24.23  \n",
       "1               42.84  \n",
       "2               25.39  \n",
       "3               42.08  \n",
       "4               22.23  \n",
       "..                ...  \n",
       "67              30.57  \n",
       "68              19.74  \n",
       "69              29.80  \n",
       "70              23.34  \n",
       "71              30.93  \n",
       "\n",
       "[72 rows x 7 columns]"
      ]
     },
     "execution_count": 77,
     "metadata": {},
     "output_type": "execute_result"
    }
   ],
   "source": [
    "monthly_profit = cabdata.groupby([cabdata['Date of Travel'].dt.strftime('%Y/%m'), 'Company'])['Price Charged','Cost of Trip'].sum()\n",
    "monthly_profit['Profit']= monthly_profit['Price Charged']-monthly_profit['Cost of Trip']\n",
    "monthly_profit[\"Profit Margin (%)\"] = (monthly_profit[\"Profit\"]*100) / monthly_profit['Price Charged']\n",
    "monthly_profit"
   ]
  },
  {
   "cell_type": "markdown",
   "metadata": {},
   "source": [
    "#### Above table indicates monthly profits achieved in each month of years (2016, 2017, 2018)"
   ]
  },
  {
   "cell_type": "code",
   "execution_count": null,
   "metadata": {},
   "outputs": [],
   "source": [
    "monthly_profit.reset_index(inplace= True)"
   ]
  },
  {
   "cell_type": "code",
   "execution_count": 78,
   "metadata": {},
   "outputs": [
    {
     "data": {
      "text/plain": [
       "<matplotlib.axes._subplots.AxesSubplot at 0x21337d97fd0>"
      ]
     },
     "execution_count": 78,
     "metadata": {},
     "output_type": "execute_result"
    },
    {
     "data": {
      "image/png": "[encoded data removed]",
      "text/plain": [
       "<Figure size 1080x432 with 1 Axes>"
      ]
     },
     "metadata": {
      "needs_background": "light"
     },
     "output_type": "display_data"
    }
   ],
   "source": [
    "df = monthly_profit.pivot(index='Date of Travel', columns='Company', values='Profit')\n",
    "df.plot(kind = 'bar', color = ['red', 'yellow'], figsize = [15, 6] )"
   ]
  },
  {
   "cell_type": "markdown",
   "metadata": {},
   "source": [
    "####  From the above plot a trend can be oberved in the monthly profit. Profit line tends to increase during the months of September to December in a year, and gaining highest profit in December. \n",
    "\n",
    "#### And Yellow cab gained significantly more profit in each month of the data provided."
   ]
  },
  {
   "cell_type": "markdown",
   "metadata": {},
   "source": [
    "\n",
    "# 5. Is there any effect of customer rider-ship ?"
   ]
  },
  {
   "cell_type": "code",
   "execution_count": 15,
   "metadata": {},
   "outputs": [
    {
     "name": "stdout",
     "output_type": "stream",
     "text": [
      "49171 49171\n"
     ]
    }
   ],
   "source": [
    "print(customer['Customer ID'].nunique(), transaction['Customer ID'].nunique())"
   ]
  },
  {
   "cell_type": "markdown",
   "metadata": {},
   "source": [
    "#### Following numbers indicate that each and every customer registered has utilised the cabs atleast 1 time."
   ]
  },
  {
   "cell_type": "code",
   "execution_count": 16,
   "metadata": {},
   "outputs": [],
   "source": [
    "cab_transaction = pd.merge(cabdata[['Transaction ID','Date of Travel','Company','City','KM Travelled','Price Charged','Cost of Trip']],transaction,on='Transaction ID')"
   ]
  },
  {
   "cell_type": "code",
   "execution_count": 17,
   "metadata": {},
   "outputs": [],
   "source": [
    "user_per_company = pd.DataFrame(cab_transaction.groupby(['Company'])['Customer ID'].nunique())"
   ]
  },
  {
   "cell_type": "markdown",
   "metadata": {},
   "source": [
    "#### It indicate that 32330 users utilised Pink Company cab and 39386 users travelled using Yellow Company Cab.\n",
    "#### Thus, more number of people uses Yellow Company cab which leads to higher profits."
   ]
  },
  {
   "cell_type": "code",
   "execution_count": 19,
   "metadata": {},
   "outputs": [
    {
     "name": "stdout",
     "output_type": "stream",
     "text": [
      "                           Customer ID\n",
      "Date of Travel Company                \n",
      "2016           Pink Cab          16661\n",
      "               Yellow Cab        25937\n",
      "2017           Pink Cab          18643\n",
      "               Yellow Cab        27789\n",
      "2018           Pink Cab          18400\n",
      "               Yellow Cab        27470\n"
     ]
    }
   ],
   "source": [
    "user_per_year = pd.DataFrame(cab_transaction.groupby([cab_transaction['Date of Travel'].dt.strftime('%Y'), 'Company'])['Customer ID'].nunique())\n",
    "print(user_per_year)"
   ]
  },
  {
   "cell_type": "markdown",
   "metadata": {},
   "source": [
    "#### We can observe a increase a of users in both cab company from 2016-2017. However, a slight decline was observed from 2017-2018, which can be seen in the below graph."
   ]
  },
  {
   "cell_type": "code",
   "execution_count": 38,
   "metadata": {},
   "outputs": [
    {
     "data": {
      "text/plain": [
       "<matplotlib.axes._subplots.AxesSubplot at 0x1b60630ca58>"
      ]
     },
     "execution_count": 38,
     "metadata": {},
     "output_type": "execute_result"
    },
    {
     "data": {
      "image/png": "[encoded data removed]",
      "text/plain": [
       "<Figure size 720x360 with 1 Axes>"
      ]
     },
     "metadata": {
      "needs_background": "light"
     },
     "output_type": "display_data"
    }
   ],
   "source": [
    "user_per_year.reset_index(inplace= True)\n",
    "user_per_year=user_per_year.rename(columns={'Customer ID':'Total Users'})\n",
    "df1 = user_per_year.pivot(index='Date of Travel', columns='Company', values='Total Users')\n",
    "df1.plot.bar(color= ['red', 'yellow'], figsize = [10, 5] )"
   ]
  },
  {
   "cell_type": "code",
   "execution_count": 85,
   "metadata": {},
   "outputs": [],
   "source": [
    "#cost_per_year = pd.DataFrame(cab_transaction.groupby([cab_transaction['Date of Travel'].dt.strftime('%Y'), 'Company'])['Cost of Trip'].sum())\n",
    "#cost_per_year\n",
    "Average_cost_per_year = cost_per_year.merge(user_per_year, left_index=True, right_index=True)"
   ]
  },
  {
   "cell_type": "code",
   "execution_count": 87,
   "metadata": {},
   "outputs": [
    {
     "data": {
      "text/html": [
       "<div>\n",
       "<style scoped>\n",
       "    .dataframe tbody tr th:only-of-type {\n",
       "        vertical-align: middle;\n",
       "    }\n",
       "\n",
       "    .dataframe tbody tr th {\n",
       "        vertical-align: top;\n",
       "    }\n",
       "\n",
       "    .dataframe thead th {\n",
       "        text-align: right;\n",
       "    }\n",
       "</style>\n",
       "<table border=\"1\" class=\"dataframe\">\n",
       "  <thead>\n",
       "    <tr style=\"text-align: right;\">\n",
       "      <th></th>\n",
       "      <th></th>\n",
       "      <th>Cost of Trip</th>\n",
       "      <th>Customer ID</th>\n",
       "      <th>Average Trip Cost</th>\n",
       "    </tr>\n",
       "    <tr>\n",
       "      <th>Date of Travel</th>\n",
       "      <th>Company</th>\n",
       "      <th></th>\n",
       "      <th></th>\n",
       "      <th></th>\n",
       "    </tr>\n",
       "  </thead>\n",
       "  <tbody>\n",
       "    <tr>\n",
       "      <th rowspan=\"2\" valign=\"top\">2016</th>\n",
       "      <th>Pink Cab</th>\n",
       "      <td>6194968.01</td>\n",
       "      <td>16661</td>\n",
       "      <td>371.82</td>\n",
       "    </tr>\n",
       "    <tr>\n",
       "      <th>Yellow Cab</th>\n",
       "      <td>24554137.75</td>\n",
       "      <td>25937</td>\n",
       "      <td>946.68</td>\n",
       "    </tr>\n",
       "    <tr>\n",
       "      <th rowspan=\"2\" valign=\"top\">2017</th>\n",
       "      <th>Pink Cab</th>\n",
       "      <td>7544974.63</td>\n",
       "      <td>18643</td>\n",
       "      <td>404.71</td>\n",
       "    </tr>\n",
       "    <tr>\n",
       "      <th>Yellow Cab</th>\n",
       "      <td>29242932.07</td>\n",
       "      <td>27789</td>\n",
       "      <td>1052.32</td>\n",
       "    </tr>\n",
       "    <tr>\n",
       "      <th rowspan=\"2\" valign=\"top\">2018</th>\n",
       "      <th>Pink Cab</th>\n",
       "      <td>7280980.37</td>\n",
       "      <td>18400</td>\n",
       "      <td>395.71</td>\n",
       "    </tr>\n",
       "    <tr>\n",
       "      <th>Yellow Cab</th>\n",
       "      <td>28036444.20</td>\n",
       "      <td>27470</td>\n",
       "      <td>1020.62</td>\n",
       "    </tr>\n",
       "  </tbody>\n",
       "</table>\n",
       "</div>"
      ],
      "text/plain": [
       "                           Cost of Trip  Customer ID  Average Trip Cost\n",
       "Date of Travel Company                                                 \n",
       "2016           Pink Cab      6194968.01        16661             371.82\n",
       "               Yellow Cab   24554137.75        25937             946.68\n",
       "2017           Pink Cab      7544974.63        18643             404.71\n",
       "               Yellow Cab   29242932.07        27789            1052.32\n",
       "2018           Pink Cab      7280980.37        18400             395.71\n",
       "               Yellow Cab   28036444.20        27470            1020.62"
      ]
     },
     "execution_count": 87,
     "metadata": {},
     "output_type": "execute_result"
    }
   ],
   "source": [
    "Average_cost_per_year['Average Trip Cost'] = Average_cost_per_year['Cost of Trip'] / Average_cost_per_year['Customer ID']\n",
    "Average_cost_per_year"
   ]
  },
  {
   "cell_type": "code",
   "execution_count": 89,
   "metadata": {},
   "outputs": [
    {
     "data": {
      "text/plain": [
       "<matplotlib.axes._subplots.AxesSubplot at 0x21339aa6978>"
      ]
     },
     "execution_count": 89,
     "metadata": {},
     "output_type": "execute_result"
    },
    {
     "data": {
      "image/png": "[encoded data removed]",
      "text/plain": [
       "<Figure size 720x360 with 1 Axes>"
      ]
     },
     "metadata": {
      "needs_background": "light"
     },
     "output_type": "display_data"
    }
   ],
   "source": [
    "Average_cost_per_year.reset_index(inplace= True)\n",
    "df3 = Average_cost_per_year.pivot(index='Date of Travel', columns='Company', values='Average Trip Cost')\n",
    "df3.plot.line(color= ['red', 'yellow'], figsize = [10, 5] )"
   ]
  },
  {
   "cell_type": "markdown",
   "metadata": {},
   "source": [
    "#### From this plot it is evident that decrease in cab users 2017-2018 is not due to increase in cost of trip. As cost of trip is also decreasing from 2017-2018."
   ]
  },
  {
   "cell_type": "markdown",
   "metadata": {},
   "source": [
    "# Does geographic location and population size increases cab ridership?"
   ]
  },
  {
   "cell_type": "code",
   "execution_count": 64,
   "metadata": {},
   "outputs": [],
   "source": [
    "city_cabdata=pd.merge(cabdata[['Transaction ID','Company','City','Price Charged','Cost of Trip']],city,how = 'left', on='City')"
   ]
  },
  {
   "cell_type": "code",
   "execution_count": 65,
   "metadata": {},
   "outputs": [
    {
     "data": {
      "text/plain": [
       "Transaction ID    0\n",
       "Company           0\n",
       "City              0\n",
       "Price Charged     0\n",
       "Cost of Trip      0\n",
       "Population        0\n",
       "Users             0\n",
       "Non_Users         0\n",
       "dtype: int64"
      ]
     },
     "execution_count": 65,
     "metadata": {},
     "output_type": "execute_result"
    }
   ],
   "source": [
    "city_cabdata.isnull().sum()"
   ]
  },
  {
   "cell_type": "code",
   "execution_count": 48,
   "metadata": {},
   "outputs": [],
   "source": [
    "city['Population'] = city['Population'].str.replace(',', '').astype('int64')\n",
    "city['Users'] = city['Users'].str.replace(',', '').astype('int64')"
   ]
  },
  {
   "cell_type": "code",
   "execution_count": 91,
   "metadata": {},
   "outputs": [
    {
     "data": {
      "text/plain": [
       "<matplotlib.axes._subplots.AxesSubplot at 0x2133de1b3c8>"
      ]
     },
     "execution_count": 91,
     "metadata": {},
     "output_type": "execute_result"
    },
    {
     "data": {
      "image/png": "[encoded data removed]",
      "text/plain": [
       "<Figure size 1080x432 with 1 Axes>"
      ]
     },
     "metadata": {
      "needs_background": "light"
     },
     "output_type": "display_data"
    }
   ],
   "source": [
    "city.plot(kind='bar',x='City',y=['Population', 'Users'], figsize = [15, 6] )"
   ]
  },
  {
   "cell_type": "markdown",
   "metadata": {},
   "source": [
    "#### Above plot indicates City population against cab users in a city.\n",
    "#### It cab be seen that although New York have the highest population, the number of people using the cab is comparatively low if compared the difference.\n",
    "#### This indicates population size have very low effect in cab rides."
   ]
  },
  {
   "cell_type": "code",
   "execution_count": 93,
   "metadata": {},
   "outputs": [
    {
     "data": {
      "text/html": [
       "<div>\n",
       "<style scoped>\n",
       "    .dataframe tbody tr th:only-of-type {\n",
       "        vertical-align: middle;\n",
       "    }\n",
       "\n",
       "    .dataframe tbody tr th {\n",
       "        vertical-align: top;\n",
       "    }\n",
       "\n",
       "    .dataframe thead th {\n",
       "        text-align: right;\n",
       "    }\n",
       "</style>\n",
       "<table border=\"1\" class=\"dataframe\">\n",
       "  <thead>\n",
       "    <tr style=\"text-align: right;\">\n",
       "      <th></th>\n",
       "      <th></th>\n",
       "      <th>Transaction ID</th>\n",
       "    </tr>\n",
       "    <tr>\n",
       "      <th>City</th>\n",
       "      <th>Company</th>\n",
       "      <th></th>\n",
       "    </tr>\n",
       "  </thead>\n",
       "  <tbody>\n",
       "    <tr>\n",
       "      <th rowspan=\"2\" valign=\"top\">ATLANTA GA</th>\n",
       "      <th>Pink Cab</th>\n",
       "      <td>1762</td>\n",
       "    </tr>\n",
       "    <tr>\n",
       "      <th>Yellow Cab</th>\n",
       "      <td>5795</td>\n",
       "    </tr>\n",
       "    <tr>\n",
       "      <th rowspan=\"2\" valign=\"top\">AUSTIN TX</th>\n",
       "      <th>Pink Cab</th>\n",
       "      <td>1868</td>\n",
       "    </tr>\n",
       "    <tr>\n",
       "      <th>Yellow Cab</th>\n",
       "      <td>3028</td>\n",
       "    </tr>\n",
       "    <tr>\n",
       "      <th rowspan=\"2\" valign=\"top\">BOSTON MA</th>\n",
       "      <th>Pink Cab</th>\n",
       "      <td>5186</td>\n",
       "    </tr>\n",
       "    <tr>\n",
       "      <th>Yellow Cab</th>\n",
       "      <td>24506</td>\n",
       "    </tr>\n",
       "    <tr>\n",
       "      <th rowspan=\"2\" valign=\"top\">CHICAGO IL</th>\n",
       "      <th>Pink Cab</th>\n",
       "      <td>9361</td>\n",
       "    </tr>\n",
       "    <tr>\n",
       "      <th>Yellow Cab</th>\n",
       "      <td>47264</td>\n",
       "    </tr>\n",
       "    <tr>\n",
       "      <th rowspan=\"2\" valign=\"top\">DALLAS TX</th>\n",
       "      <th>Pink Cab</th>\n",
       "      <td>1380</td>\n",
       "    </tr>\n",
       "    <tr>\n",
       "      <th>Yellow Cab</th>\n",
       "      <td>5637</td>\n",
       "    </tr>\n",
       "    <tr>\n",
       "      <th rowspan=\"2\" valign=\"top\">DENVER CO</th>\n",
       "      <th>Pink Cab</th>\n",
       "      <td>1394</td>\n",
       "    </tr>\n",
       "    <tr>\n",
       "      <th>Yellow Cab</th>\n",
       "      <td>2431</td>\n",
       "    </tr>\n",
       "    <tr>\n",
       "      <th rowspan=\"2\" valign=\"top\">LOS ANGELES CA</th>\n",
       "      <th>Pink Cab</th>\n",
       "      <td>19865</td>\n",
       "    </tr>\n",
       "    <tr>\n",
       "      <th>Yellow Cab</th>\n",
       "      <td>28168</td>\n",
       "    </tr>\n",
       "    <tr>\n",
       "      <th rowspan=\"2\" valign=\"top\">MIAMI FL</th>\n",
       "      <th>Pink Cab</th>\n",
       "      <td>2002</td>\n",
       "    </tr>\n",
       "    <tr>\n",
       "      <th>Yellow Cab</th>\n",
       "      <td>4452</td>\n",
       "    </tr>\n",
       "    <tr>\n",
       "      <th rowspan=\"2\" valign=\"top\">NASHVILLE TN</th>\n",
       "      <th>Pink Cab</th>\n",
       "      <td>1841</td>\n",
       "    </tr>\n",
       "    <tr>\n",
       "      <th>Yellow Cab</th>\n",
       "      <td>1169</td>\n",
       "    </tr>\n",
       "    <tr>\n",
       "      <th rowspan=\"2\" valign=\"top\">NEW YORK NY</th>\n",
       "      <th>Pink Cab</th>\n",
       "      <td>13967</td>\n",
       "    </tr>\n",
       "    <tr>\n",
       "      <th>Yellow Cab</th>\n",
       "      <td>85918</td>\n",
       "    </tr>\n",
       "    <tr>\n",
       "      <th rowspan=\"2\" valign=\"top\">ORANGE COUNTY</th>\n",
       "      <th>Pink Cab</th>\n",
       "      <td>1513</td>\n",
       "    </tr>\n",
       "    <tr>\n",
       "      <th>Yellow Cab</th>\n",
       "      <td>2469</td>\n",
       "    </tr>\n",
       "    <tr>\n",
       "      <th rowspan=\"2\" valign=\"top\">PHOENIX AZ</th>\n",
       "      <th>Pink Cab</th>\n",
       "      <td>864</td>\n",
       "    </tr>\n",
       "    <tr>\n",
       "      <th>Yellow Cab</th>\n",
       "      <td>1200</td>\n",
       "    </tr>\n",
       "    <tr>\n",
       "      <th rowspan=\"2\" valign=\"top\">PITTSBURGH PA</th>\n",
       "      <th>Pink Cab</th>\n",
       "      <td>682</td>\n",
       "    </tr>\n",
       "    <tr>\n",
       "      <th>Yellow Cab</th>\n",
       "      <td>631</td>\n",
       "    </tr>\n",
       "    <tr>\n",
       "      <th rowspan=\"2\" valign=\"top\">SACRAMENTO CA</th>\n",
       "      <th>Pink Cab</th>\n",
       "      <td>1334</td>\n",
       "    </tr>\n",
       "    <tr>\n",
       "      <th>Yellow Cab</th>\n",
       "      <td>1033</td>\n",
       "    </tr>\n",
       "    <tr>\n",
       "      <th rowspan=\"2\" valign=\"top\">SAN DIEGO CA</th>\n",
       "      <th>Pink Cab</th>\n",
       "      <td>10672</td>\n",
       "    </tr>\n",
       "    <tr>\n",
       "      <th>Yellow Cab</th>\n",
       "      <td>9816</td>\n",
       "    </tr>\n",
       "    <tr>\n",
       "      <th rowspan=\"2\" valign=\"top\">SEATTLE WA</th>\n",
       "      <th>Pink Cab</th>\n",
       "      <td>2732</td>\n",
       "    </tr>\n",
       "    <tr>\n",
       "      <th>Yellow Cab</th>\n",
       "      <td>5265</td>\n",
       "    </tr>\n",
       "    <tr>\n",
       "      <th rowspan=\"2\" valign=\"top\">SILICON VALLEY</th>\n",
       "      <th>Pink Cab</th>\n",
       "      <td>3797</td>\n",
       "    </tr>\n",
       "    <tr>\n",
       "      <th>Yellow Cab</th>\n",
       "      <td>4722</td>\n",
       "    </tr>\n",
       "    <tr>\n",
       "      <th rowspan=\"2\" valign=\"top\">TUCSON AZ</th>\n",
       "      <th>Pink Cab</th>\n",
       "      <td>799</td>\n",
       "    </tr>\n",
       "    <tr>\n",
       "      <th>Yellow Cab</th>\n",
       "      <td>1132</td>\n",
       "    </tr>\n",
       "    <tr>\n",
       "      <th rowspan=\"2\" valign=\"top\">WASHINGTON DC</th>\n",
       "      <th>Pink Cab</th>\n",
       "      <td>3692</td>\n",
       "    </tr>\n",
       "    <tr>\n",
       "      <th>Yellow Cab</th>\n",
       "      <td>40045</td>\n",
       "    </tr>\n",
       "  </tbody>\n",
       "</table>\n",
       "</div>"
      ],
      "text/plain": [
       "                           Transaction ID\n",
       "City           Company                   \n",
       "ATLANTA GA     Pink Cab              1762\n",
       "               Yellow Cab            5795\n",
       "AUSTIN TX      Pink Cab              1868\n",
       "               Yellow Cab            3028\n",
       "BOSTON MA      Pink Cab              5186\n",
       "               Yellow Cab           24506\n",
       "CHICAGO IL     Pink Cab              9361\n",
       "               Yellow Cab           47264\n",
       "DALLAS TX      Pink Cab              1380\n",
       "               Yellow Cab            5637\n",
       "DENVER CO      Pink Cab              1394\n",
       "               Yellow Cab            2431\n",
       "LOS ANGELES CA Pink Cab             19865\n",
       "               Yellow Cab           28168\n",
       "MIAMI FL       Pink Cab              2002\n",
       "               Yellow Cab            4452\n",
       "NASHVILLE TN   Pink Cab              1841\n",
       "               Yellow Cab            1169\n",
       "NEW YORK NY    Pink Cab             13967\n",
       "               Yellow Cab           85918\n",
       "ORANGE COUNTY  Pink Cab              1513\n",
       "               Yellow Cab            2469\n",
       "PHOENIX AZ     Pink Cab               864\n",
       "               Yellow Cab            1200\n",
       "PITTSBURGH PA  Pink Cab               682\n",
       "               Yellow Cab             631\n",
       "SACRAMENTO CA  Pink Cab              1334\n",
       "               Yellow Cab            1033\n",
       "SAN DIEGO CA   Pink Cab             10672\n",
       "               Yellow Cab            9816\n",
       "SEATTLE WA     Pink Cab              2732\n",
       "               Yellow Cab            5265\n",
       "SILICON VALLEY Pink Cab              3797\n",
       "               Yellow Cab            4722\n",
       "TUCSON AZ      Pink Cab               799\n",
       "               Yellow Cab            1132\n",
       "WASHINGTON DC  Pink Cab              3692\n",
       "               Yellow Cab           40045"
      ]
     },
     "execution_count": 93,
     "metadata": {},
     "output_type": "execute_result"
    }
   ],
   "source": [
    "citypop = pd.DataFrame(city_cabdata.groupby(['City', 'Company'])['Transaction ID'].count())\n",
    "citypop"
   ]
  },
  {
   "cell_type": "code",
   "execution_count": 95,
   "metadata": {},
   "outputs": [
    {
     "data": {
      "text/plain": [
       "<matplotlib.axes._subplots.AxesSubplot at 0x2133fe6e940>"
      ]
     },
     "execution_count": 95,
     "metadata": {},
     "output_type": "execute_result"
    },
    {
     "data": {
      "image/png": "[encoded data removed]",
      "text/plain": [
       "<Figure size 720x360 with 1 Axes>"
      ]
     },
     "metadata": {
      "needs_background": "light"
     },
     "output_type": "display_data"
    }
   ],
   "source": [
    "citypop.reset_index(inplace= True)\n",
    "df2 = citypop.pivot(index='City', columns='Company', values='Transaction ID')\n",
    "df2.plot.bar(color= ['red', 'yellow'], figsize = [10, 5] )"
   ]
  },
  {
   "cell_type": "markdown",
   "metadata": {},
   "source": [
    "#### From the above plot it can be observed that Yellow cab had more rides in most of the cities, except Nashville, Pittsburgh, Sacramento and San Diego."
   ]
  },
  {
   "cell_type": "markdown",
   "metadata": {},
   "source": [
    "# Final Conclusion"
   ]
  },
  {
   "cell_type": "markdown",
   "metadata": {},
   "source": [
    "1. Yearly and Monthly profits of Yellow Cab is higher than Pink Cab.\n",
    "2. Customers made more ride through Yellow Cab in most of the city. And in the rest the difference in rides was not that much.\n",
    "3. Both the companies have increased in Profit and users from 2016-2017, however a slight decrease is observed from 2017-2018.\n",
    "4. In all aspects Yellow Cab company is found to be dominant.\n",
    "\n",
    "Thus I will recommend investing in Yellow Cab Company.\n"
   ]
  }
 ],
 "metadata": {
  "kernelspec": {
   "display_name": "Python 3",
   "language": "python",
   "name": "python3"
  },
  "language_info": {
   "codemirror_mode": {
    "name": "ipython",
    "version": 3
   },
   "file_extension": ".py",
   "mimetype": "text/x-python",
   "name": "python",
   "nbconvert_exporter": "python",
   "pygments_lexer": "ipython3",
   "version": "3.7.3"
  }
 },
 "nbformat": 4,
 "nbformat_minor": 2
}
